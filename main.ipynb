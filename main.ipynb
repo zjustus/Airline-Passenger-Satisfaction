{
 "cells": [
  {
   "cell_type": "markdown",
   "metadata": {},
   "source": [
    "# Install dependencies\n",
    "```shell\n",
    "sudo apt update\n",
    "sudo apt upgrade\n",
    "sudo apt install python3 python3-pip\n",
    "\n",
    "pip install numpy\n",
    "pip install pandas\n",
    "pip install sklearn\n",
    "```"
   ]
  },
  {
   "cell_type": "markdown",
   "metadata": {},
   "source": [
    "# Init Libraries and Dataset"
   ]
  },
  {
   "cell_type": "code",
   "execution_count": null,
   "metadata": {},
   "outputs": [],
   "source": [
    "import numpy as np\n",
    "import pandas as pd\n",
    "\n",
    "from sklearn.neighbors import KNeighborsClassifier\n",
    "# from sklearn.model_selection import train_test_split\n",
    "from sklearn.metrics import accuracy_score\n",
    "\n",
    "testSet = pd.read_csv('test.csv')\n",
    "trainSet = pd.read_csv('train.csv')"
   ]
  },
  {
   "cell_type": "markdown",
   "metadata": {},
   "source": [
    "# Prelim Transformations\n",
    "This section aims to convert all columns with multiple string values into multiple columns with a single string value\n",
    "This section then aims to convert the string values of the solution column into proper numbers (1 or 0)"
   ]
  },
  {
   "cell_type": "code",
   "execution_count": 11,
   "metadata": {},
   "outputs": [
    {
     "name": "stdout",
     "output_type": "stream",
     "text": [
      "         Unnamed: 0             id           Age  Flight Distance  \\\n",
      "count  25976.000000   25976.000000  25976.000000     25976.000000   \n",
      "mean   12987.500000   65005.657992     39.620958      1193.788459   \n",
      "std     7498.769632   37611.526647     15.135685       998.683999   \n",
      "min        0.000000      17.000000      7.000000        31.000000   \n",
      "25%     6493.750000   32170.500000     27.000000       414.000000   \n",
      "50%    12987.500000   65319.500000     40.000000       849.000000   \n",
      "75%    19481.250000   97584.250000     51.000000      1744.000000   \n",
      "max    25975.000000  129877.000000     85.000000      4983.000000   \n",
      "\n",
      "       Inflight wifi service  Departure/Arrival time convenient  \\\n",
      "count           25976.000000                       25976.000000   \n",
      "mean                2.724746                           3.046812   \n",
      "std                 1.335384                           1.533371   \n",
      "min                 0.000000                           0.000000   \n",
      "25%                 2.000000                           2.000000   \n",
      "50%                 3.000000                           3.000000   \n",
      "75%                 4.000000                           4.000000   \n",
      "max                 5.000000                           5.000000   \n",
      "\n",
      "       Ease of Online booking  Gate location  Food and drink  Online boarding  \\\n",
      "count            25976.000000   25976.000000    25976.000000     25976.000000   \n",
      "mean                 2.756775       2.977094        3.215353         3.261665   \n",
      "std                  1.412951       1.282133        1.331506         1.355536   \n",
      "min                  0.000000       1.000000        0.000000         0.000000   \n",
      "25%                  2.000000       2.000000        2.000000         2.000000   \n",
      "50%                  3.000000       3.000000        3.000000         4.000000   \n",
      "75%                  4.000000       4.000000        4.000000         4.000000   \n",
      "max                  5.000000       5.000000        5.000000         5.000000   \n",
      "\n",
      "       ...  Gender_Female   Gender_Male  Customer Type_Loyal Customer  \\\n",
      "count  ...   25976.000000  25976.000000                  25976.000000   \n",
      "mean   ...       0.507083      0.492917                      0.815253   \n",
      "std    ...       0.499959      0.499959                      0.388100   \n",
      "min    ...       0.000000      0.000000                      0.000000   \n",
      "25%    ...       0.000000      0.000000                      1.000000   \n",
      "50%    ...       1.000000      0.000000                      1.000000   \n",
      "75%    ...       1.000000      1.000000                      1.000000   \n",
      "max    ...       1.000000      1.000000                      1.000000   \n",
      "\n",
      "       Customer Type_disloyal Customer  Type of Travel_Business travel  \\\n",
      "count                     25976.000000                    25976.000000   \n",
      "mean                          0.184747                        0.694410   \n",
      "std                           0.388100                        0.460666   \n",
      "min                           0.000000                        0.000000   \n",
      "25%                           0.000000                        0.000000   \n",
      "50%                           0.000000                        1.000000   \n",
      "75%                           0.000000                        1.000000   \n",
      "max                           1.000000                        1.000000   \n",
      "\n",
      "       Type of Travel_Personal Travel  Class_Business     Class_Eco  \\\n",
      "count                    25976.000000    25976.000000  25976.000000   \n",
      "mean                         0.305590        0.481021      0.445180   \n",
      "std                          0.460666        0.499649      0.496995   \n",
      "min                          0.000000        0.000000      0.000000   \n",
      "25%                          0.000000        0.000000      0.000000   \n",
      "50%                          0.000000        0.000000      0.000000   \n",
      "75%                          1.000000        1.000000      1.000000   \n",
      "max                          1.000000        1.000000      1.000000   \n",
      "\n",
      "       Class_Eco Plus  satisfaction  \n",
      "count    25976.000000  25976.000000  \n",
      "mean         0.073799      0.438982  \n",
      "std          0.261448      0.496272  \n",
      "min          0.000000      0.000000  \n",
      "25%          0.000000      0.000000  \n",
      "50%          0.000000      0.000000  \n",
      "75%          0.000000      1.000000  \n",
      "max          1.000000      1.000000  \n",
      "\n",
      "[8 rows x 30 columns]\n"
     ]
    }
   ],
   "source": [
    "\n",
    "\n",
    "# This prints the columns that need to be mapped and the unique data to remap\n",
    "# for col in testSet.axes[1]:\n",
    "#     if testSet[col].dtype == 'object':\n",
    "#         print(col + \": \", end=\"\")\n",
    "#         print(pd.unique(testSet[col]))\n",
    "# print('\\n')\n",
    "\n",
    "# For every text column, break into multiple binary columns\n",
    "testSet_transformed = testSet\n",
    "for col in testSet.axes[1]:\n",
    "    if testSet[col].dtype == 'object' and col != 'satisfaction':\n",
    "        testSet_transformed = pd.get_dummies(testSet_transformed, prefix=[col], columns=[col])\n",
    "\n",
    "trainSet_transformed = trainSet\n",
    "for col in trainSet.axes[1]:\n",
    "    if trainSet[col].dtype == 'object' and col != 'satisfaction':\n",
    "        trainSet_transformed = pd.get_dummies(trainSet_transformed, prefix=[col], columns=[col])\n",
    "\n",
    "\n",
    "# Reorganize the data such that the solution axes is last\n",
    "solutionAxes = ['satisfaction']\n",
    "testSet_transformed = testSet_transformed[\n",
    "    [col for col in testSet_transformed if col not in solutionAxes] + \n",
    "    [col for col in solutionAxes if col in testSet_transformed]\n",
    "]\n",
    "trainSet_transformed = trainSet_transformed[\n",
    "    [col for col in trainSet_transformed if col not in solutionAxes] + \n",
    "    [col for col in solutionAxes if col in trainSet_transformed]\n",
    "]\n",
    "\n",
    "# Replace solutionAxes values of 'satisfied' or 'neutral or dissatisfied' with 1 or 0 respectively\n",
    "testSet_transformed['satisfaction'] = testSet_transformed['satisfaction'].replace(['satisfied', 'neutral or dissatisfied'], [1, 0])\n",
    "trainSet_transformed['satisfaction'] = trainSet_transformed['satisfaction'].replace(['satisfied', 'neutral or dissatisfied'], [1, 0])\n",
    "# print(testSet_transformed['satisfaction'])\n",
    "# print(testSet_transformed.head())\n",
    "\n",
    "# print(testSet_transformed.columns, '\\n')\n",
    "\n",
    "# replace all nan values with 0's\n",
    "trainSet_nan_col = trainSet_transformed.isna().any()\n",
    "for i in trainSet_nan_col.keys():\n",
    "    if trainSet_nan_col[i] == True: \n",
    "        # print(\"Replacing \", i, \" NaN Values with \", testSet_transformed[i].mean())\n",
    "        testSet_transformed[i] = testSet_transformed[i].replace(np.nan, testSet_transformed[i].mean())\n",
    "\n",
    "testSet_nan_col = trainSet_transformed.isna().any()\n",
    "for i in testSet_nan_col.keys():\n",
    "    if testSet_nan_col[i] == True: \n",
    "        # print(\"Replacing \", i, \" NaN Values with \", testSet_transformed[i].mean())\n",
    "        trainSet_transformed[i] = trainSet_transformed[i].replace(np.nan, trainSet_transformed[i].mean())\n",
    "\n",
    "\n",
    "# Data normalization\n",
    "print(testSet_transformed.describe-1]]\n",
    "\n",
    "# print(trainData.columns, '\\n')\n",
    "# print(trainSolution, '\\n')\n"
   ]
  },
  {
   "cell_type": "code",
   "execution_count": null,
   "metadata": {},
   "outputs": [],
   "source": [
    "knn = KNeighborsClassifier(n_neighbors=10)\n",
    "knn.fit(trainData, trainSolution)\n",
    "\n",
    "testPredict = knn.predict(testData)\n",
    "accuracy = accuracy_score(testSolution,testPredict)\n",
    "print(accuracy)\n"
   ]
  }
 ],
 "metadata": {
  "kernelspec": {
   "display_name": "Python 3.10.4 64-bit",
   "language": "python",
   "name": "python3"
  },
  "language_info": {
   "codemirror_mode": {
    "name": "ipython",
    "version": 3
   },
   "file_extension": ".py",
   "mimetype": "text/x-python",
   "name": "python",
   "nbconvert_exporter": "python",
   "pygments_lexer": "ipython3",
   "version": "3.8.10"
  },
  "orig_nbformat": 4,
  "vscode": {
   "interpreter": {
    "hash": "916dbcbb3f70747c44a77c7bcd40155683ae19c65e1c03b4aa3499c5328201f1"
   }
  }
 },
 "nbformat": 4,
 "nbformat_minor": 2
}
