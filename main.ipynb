{
 "cells": [
  {
   "cell_type": "markdown",
   "metadata": {},
   "source": [
    "# Install dependencies\n",
    "```shell\n",
    "sudo apt update\n",
    "sudo apt upgrade\n",
    "sudo apt install python3 python3-pip\n",
    "\n",
    "pip install numpy\n",
    "pip install pandas\n",
    "pip install sklearn\n",
    "```"
   ]
  },
  {
   "cell_type": "markdown",
   "metadata": {},
   "source": [
    "# Init Libraries and Dataset"
   ]
  },
  {
   "cell_type": "code",
   "execution_count": 111,
   "metadata": {},
   "outputs": [],
   "source": [
    "import numpy as np\n",
    "import pandas as pd\n",
    "\n",
    "from sklearn.neighbors import KNeighborsClassifier\n",
    "# from sklearn.model_selection import train_test_split\n",
    "from sklearn.metrics import accuracy_score\n",
    "\n",
    "testSet = pd.read_csv('test.csv')\n",
    "trainSet = pd.read_csv('train.csv')"
   ]
  },
  {
   "cell_type": "markdown",
   "metadata": {},
   "source": [
    "# Prelim Transformations\n",
    "This section aims to convert all columns with multiple string values into multiple columns with a single string value\n",
    "This section then aims to convert the string values of the solution column into proper numbers (1 or 0)"
   ]
  },
  {
   "cell_type": "code",
   "execution_count": 112,
   "metadata": {},
   "outputs": [],
   "source": [
    "\n",
    "\n",
    "# This prints the columns that need to be mapped and the unique data to remap\n",
    "# for col in testSet.axes[1]:\n",
    "#     if testSet[col].dtype == 'object':\n",
    "#         print(col + \": \", end=\"\")\n",
    "#         print(pd.unique(testSet[col]))\n",
    "# print('\\n')\n",
    "\n",
    "# This prints the columns that contain NaN values\n",
    "# nan_things = trainSet_transformed.isna().any()\n",
    "# print(nan_things)\n",
    "\n",
    "\n",
    "# For every text column, break into multiple binary columns\n",
    "testSet_transformed = testSet\n",
    "for col in testSet.axes[1]:\n",
    "    if testSet[col].dtype == 'object' and col != 'satisfaction':\n",
    "        testSet_transformed = pd.get_dummies(testSet_transformed, prefix=[col], columns=[col])\n",
    "\n",
    "trainSet_transformed = trainSet\n",
    "for col in trainSet.axes[1]:\n",
    "    if trainSet[col].dtype == 'object' and col != 'satisfaction':\n",
    "        trainSet_transformed = pd.get_dummies(trainSet_transformed, prefix=[col], columns=[col])\n",
    "\n",
    "\n",
    "# Reorganize the data such that the solution axes is last\n",
    "solutionAxes = ['satisfaction']\n",
    "testSet_transformed = testSet_transformed[\n",
    "    [col for col in testSet_transformed if col not in solutionAxes] + \n",
    "    [col for col in solutionAxes if col in testSet_transformed]\n",
    "]\n",
    "trainSet_transformed = trainSet_transformed[\n",
    "    [col for col in trainSet_transformed if col not in solutionAxes] + \n",
    "    [col for col in solutionAxes if col in trainSet_transformed]\n",
    "]\n",
    "\n",
    "# Replace solutionAxes values of 'satisfied' or 'neutral or dissatisfied' with 1 or 0 respectively\n",
    "testSet_transformed['satisfaction'] = testSet_transformed['satisfaction'].replace(['satisfied', 'neutral or dissatisfied'], [1, 0])\n",
    "trainSet_transformed['satisfaction'] = trainSet_transformed['satisfaction'].replace(['satisfied', 'neutral or dissatisfied'], [1, 0])\n",
    "# print(testSet_transformed['satisfaction'])\n",
    "# print(testSet_transformed.head())\n",
    "\n",
    "# print(testSet_transformed.columns, '\\n')\n",
    "\n",
    "# replace all nan values with 0's\n",
    "# TODO: a better method would be to either manipulate the values or remove the rows \n",
    "trainSet_transformed = trainSet_transformed.replace(np.nan, 0)\n",
    "testSet_transformed = testSet_transformed.replace(np.nan, 0)\n",
    "\n",
    "# testSet_transformed['Arrival Delay in Minutes'] = testSet_transformed['Arrival Delay in Minutes'].fillna(testSet_transformed['Arrival Delay in Minutes'].median(axis = 0), inplace = True)\n",
    "\n",
    "# Load the test and train data\n",
    "testData = testSet_transformed[testSet_transformed.axes[1][2:-1]]\n",
    "testSolution = testSet_transformed[testSet_transformed.axes[1][-1]]\n",
    "trainData = trainSet_transformed[trainSet_transformed.axes[1][2:-1]]\n",
    "trainSolution = trainSet_transformed[trainSet_transformed.axes[1][-1]]\n",
    "\n",
    "# print(trainData.columns, '\\n')\n",
    "# print(trainSolution, '\\n')\n"
   ]
  },
  {
   "cell_type": "code",
   "execution_count": 113,
   "metadata": {},
   "outputs": [
    {
     "name": "stdout",
     "output_type": "stream",
     "text": [
      "0.7498075146288882\n"
     ]
    }
   ],
   "source": [
    "knn = KNeighborsClassifier(n_neighbors=10)\n",
    "knn.fit(trainData, trainSolution)\n",
    "\n",
    "testPredict = knn.predict(testData)\n",
    "accuracy = accuracy_score(testSolution,testPredict)\n",
    "print(accuracy)\n"
   ]
  }
 ],
 "metadata": {
  "kernelspec": {
   "display_name": "Python 3.10.4 64-bit",
   "language": "python",
   "name": "python3"
  },
  "language_info": {
   "codemirror_mode": {
    "name": "ipython",
    "version": 3
   },
   "file_extension": ".py",
   "mimetype": "text/x-python",
   "name": "python",
   "nbconvert_exporter": "python",
   "pygments_lexer": "ipython3",
   "version": "3.10.6"
  },
  "orig_nbformat": 4,
  "vscode": {
   "interpreter": {
    "hash": "916dbcbb3f70747c44a77c7bcd40155683ae19c65e1c03b4aa3499c5328201f1"
   }
  }
 },
 "nbformat": 4,
 "nbformat_minor": 2
}
