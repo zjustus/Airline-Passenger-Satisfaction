{
 "cells": [
  {
   "cell_type": "markdown",
   "metadata": {},
   "source": [
    "# Assignment 2, Question 2\n",
    "by Zach Justus"
   ]
  },
  {
   "cell_type": "markdown",
   "metadata": {},
   "source": [
    "## A. Import Libraries and the Dataset"
   ]
  },
  {
   "cell_type": "code",
   "execution_count": 1,
   "metadata": {},
   "outputs": [],
   "source": [
    "# Import modules\n",
    "import numpy as np\n",
    "import pandas as pd\n",
    "\n",
    "from sklearn.neighbors import KNeighborsClassifier\n",
    "from sklearn.model_selection import train_test_split\n",
    "from sklearn.metrics import accuracy_score\n",
    "\n",
    "# Import the data\n",
    "iris_df = pd.read_csv('https://raw.githubusercontent.com/mpourhoma/CS4661/master/iris.csv')\n",
    "feature_cols = ['sepal_length','sepal_width','petal_length','petal_width']\n",
    "X = iris_df[feature_cols]\n",
    "y = iris_df['species']"
   ]
  },
  {
   "cell_type": "markdown",
   "metadata": {},
   "source": [
    "## B. Split the data set into testing and training\n",
    "test_size = 0.4\n",
    "random_state = 6"
   ]
  },
  {
   "cell_type": "code",
   "execution_count": 2,
   "metadata": {},
   "outputs": [],
   "source": [
    "X_train, X_test, y_train, y_test = train_test_split(X, y, test_size=0.4, random_state=6)"
   ]
  },
  {
   "cell_type": "markdown",
   "metadata": {},
   "source": [
    "# C. Create KNN Object, Train, Then Test"
   ]
  },
  {
   "cell_type": "code",
   "execution_count": 3,
   "metadata": {},
   "outputs": [
    {
     "name": "stdout",
     "output_type": "stream",
     "text": [
      "0.9666666666666667\n"
     ]
    }
   ],
   "source": [
    "# Create Object\n",
    "k = 3\n",
    "my_knn_for_cs4661 = KNeighborsClassifier(n_neighbors=k)\n",
    "\n",
    "# Train Object\n",
    "my_knn_for_cs4661.fit(X_train, y_train)\n",
    "\n",
    "# Test Object\n",
    "y_predict = my_knn_for_cs4661.predict(X_test)\n",
    "accuracy = accuracy_score(y_test, y_predict)\n",
    "\n",
    "print(accuracy)"
   ]
  },
  {
   "cell_type": "markdown",
   "metadata": {},
   "source": [
    "## D. Redo C with various k values\n",
    "k = [1, 5, 7, 11, 15, 27, 59]\n",
    "\n",
    "Q. Does the accuracy always get better by increasing the value K?  \n",
    "A. No, the results of the code below show that there exists a particular value of k that yields the best accuracy for the data. going further away from that value the accuracy will decrease."
   ]
  },
  {
   "cell_type": "code",
   "execution_count": 4,
   "metadata": {},
   "outputs": [
    {
     "name": "stdout",
     "output_type": "stream",
     "text": [
      "K = 1: 0.95\n",
      "K = 5: 0.9833333333333333\n",
      "K = 7: 0.9666666666666667\n",
      "K = 11: 0.9666666666666667\n",
      "K = 15: 0.9333333333333333\n",
      "K = 27: 0.9166666666666666\n",
      "K = 59: 0.8166666666666667\n"
     ]
    }
   ],
   "source": [
    "kTests = [1, 5, 7, 11, 15, 27, 59]\n",
    "\n",
    "for k in kTests:\n",
    "    my_knn_for_cs4661 = KNeighborsClassifier(n_neighbors=k)\n",
    "    my_knn_for_cs4661.fit(X_train, y_train)\n",
    "    y_predict = my_knn_for_cs4661.predict(X_test)\n",
    "    accuracy = accuracy_score(y_test, y_predict)\n",
    "    print(\"K = {}: {}\".format(k, accuracy))"
   ]
  },
  {
   "cell_type": "markdown",
   "metadata": {},
   "source": [
    "## E. Redo C but only make predictions using a single feature, do this for all features\n",
    "Q. Which feature is the single best feature to use for prediction?  \n",
    "A. petal_length is the best feature with a 96.7% accuracy"
   ]
  },
  {
   "cell_type": "code",
   "execution_count": 5,
   "metadata": {},
   "outputs": [
    {
     "name": "stdout",
     "output_type": "stream",
     "text": [
      "Feature = sepal_length: 0.7166666666666667\n",
      "Feature = sepal_width: 0.43333333333333335\n",
      "Feature = petal_length: 0.9666666666666667\n",
      "Feature = petal_width: 0.95\n"
     ]
    }
   ],
   "source": [
    "k = 3\n",
    "my_knn_for_cs4661 = KNeighborsClassifier(n_neighbors=k)\n",
    "for feature in X_train.columns:\n",
    "    my_knn_for_cs4661.fit(X_train[[feature]], y_train)\n",
    "    \n",
    "    y_predict = my_knn_for_cs4661.predict(X_test[[feature]])\n",
    "    accuracy = accuracy_score(y_test, y_predict)\n",
    "    print(\"Feature = {}: {}\".format(feature, accuracy))"
   ]
  },
  {
   "cell_type": "markdown",
   "metadata": {},
   "source": [
    "## F. Redo E but with predictions based on two data sets.\n",
    "Q. Which feature pair is the best to use for prediction?  \n",
    "A. There is a tie between the pair special_length & petal_length, and special_width & petal_length. They both have an accuracy of 98.3%"
   ]
  },
  {
   "cell_type": "code",
   "execution_count": 6,
   "metadata": {},
   "outputs": [
    {
     "name": "stdout",
     "output_type": "stream",
     "text": [
      "Features sepal_length & sepal_width: 0.7833333333333333\n",
      "Features sepal_length & petal_length: 0.9833333333333333\n",
      "Features sepal_length & petal_width: 0.95\n",
      "Features sepal_width & petal_length: 0.9833333333333333\n",
      "Features sepal_width & petal_width: 0.95\n",
      "Features petal_length & petal_width: 0.9666666666666667\n"
     ]
    }
   ],
   "source": [
    "k = 3\n",
    "my_knn_for_cs4661 = KNeighborsClassifier(n_neighbors=k)\n",
    "fPairs = [[0,1], [0,2], [0,3], [1,2], [1,3], [2,3]]\n",
    "\n",
    "for fp in fPairs:\n",
    "    my_knn_for_cs4661.fit(X_train[[X_train.columns[fp[0]], X_train.columns[fp[1]]]], y_train)\n",
    "    y_predict = my_knn_for_cs4661.predict(X_test[[X_train.columns[fp[0]], X_train.columns[fp[1]]]])\n",
    "    accuracy = accuracy_score(y_test, y_predict)\n",
    "    print(\"Features {} & {}: {}\".format(X_train.columns[fp[0]], X_train.columns[fp[1]], accuracy))"
   ]
  },
  {
   "cell_type": "markdown",
   "metadata": {},
   "source": [
    "# G. Big Picture\n",
    "Q. Does the best feature pair from part F match the two best single features in part E?  \n",
    "A. Yes and no, The best best feature in part E, Petal Length, Also happens to be a common feature in both ties in part F. however, the second best feature in part E, petal_width, has no relation to either of the two best pairs from section F. \n",
    "\n",
    "# H. Explaining G? \n",
    "I believe the reason why the 2nd most prominent feature of part E is not found at the top of part F because this feature has a data set too similar to the most prominent feature, the reason why the 3rd and 4th feature produces a better pair in part F is because when combined with the most predominant feature the set provides deeper diversity and insight into the correct outcomes of the data"
   ]
  }
 ],
 "metadata": {
  "kernelspec": {
   "display_name": "Python 3.10.6 64-bit",
   "language": "python",
   "name": "python3"
  },
  "language_info": {
   "codemirror_mode": {
    "name": "ipython",
    "version": 3
   },
   "file_extension": ".py",
   "mimetype": "text/x-python",
   "name": "python",
   "nbconvert_exporter": "python",
   "pygments_lexer": "ipython3",
   "version": "3.10.6"
  },
  "orig_nbformat": 4,
  "vscode": {
   "interpreter": {
    "hash": "916dbcbb3f70747c44a77c7bcd40155683ae19c65e1c03b4aa3499c5328201f1"
   }
  }
 },
 "nbformat": 4,
 "nbformat_minor": 2
}
